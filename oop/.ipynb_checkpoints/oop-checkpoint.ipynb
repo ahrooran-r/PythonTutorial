{
 "cells": [
  {
   "cell_type": "code",
   "execution_count": 1,
   "metadata": {
    "pycharm": {
     "is_executing": false,
     "name": "#%%\n"
    }
   },
   "outputs": [
    {
     "name": "stdout",
     "output_type": "stream",
     "text": [
      "<__main__.MyClass object at 0x0000026B8A671B38>\n"
     ]
    }
   ],
   "source": [
    "import random\n",
    "from abc import ABC\n",
    "class MyClass:\n",
    "    pass\n",
    "\n",
    "thisobj = MyClass()\n",
    "print(thisobj)"
   ]
  },
  {
   "cell_type": "code",
   "execution_count": 2,
   "metadata": {
    "pycharm": {
     "is_executing": false,
     "name": "#%%\n"
    }
   },
   "outputs": [
    {
     "name": "stdout",
     "output_type": "stream",
     "text": [
      "Calling Joe\n"
     ]
    }
   ],
   "source": [
    "class Joe():\n",
    "    def callme(self):\n",
    "        print(\"Calling Joe\")\n",
    "        \n",
    "thisjoe = Joe()\n",
    "thisjoe.callme()"
   ]
  },
  {
   "cell_type": "code",
   "execution_count": 3,
   "metadata": {
    "pycharm": {
     "is_executing": false,
     "name": "#%%\n"
    }
   },
   "outputs": [
    {
     "name": "stdout",
     "output_type": "stream",
     "text": [
      "9\n"
     ]
    }
   ],
   "source": [
    "class MyClass:\n",
    "    def dothis(self):\n",
    "        self.rand_val = random.randint (1, 10)\n",
    "        \n",
    "myinst = MyClass()\n",
    "myinst.dothis()\n",
    "print(myinst.rand_val)"
   ]
  },
  {
   "cell_type": "code",
   "execution_count": 10,
   "metadata": {
    "pycharm": {
     "is_executing": false,
     "name": "#%%\n"
    }
   },
   "outputs": [
    {
     "ename": "TypeError",
     "evalue": "increment() missing 1 required positional argument: 'val'",
     "output_type": "error",
     "traceback": [
      "\u001b[1;31m---------------------------------------------------------------------------\u001b[0m",
      "\u001b[1;31mTypeError\u001b[0m                                 Traceback (most recent call last)",
      "\u001b[1;32m<ipython-input-10-4f5178c8769a>\u001b[0m in \u001b[0;36m<module>\u001b[1;34m\u001b[0m\n\u001b[0;32m      9\u001b[0m \u001b[0mbb\u001b[0m \u001b[1;33m=\u001b[0m \u001b[0mMyNum\u001b[0m\u001b[1;33m(\u001b[0m\u001b[1;36m100\u001b[0m\u001b[1;33m)\u001b[0m\u001b[1;33m\u001b[0m\u001b[0m\n\u001b[0;32m     10\u001b[0m \u001b[1;31m# aa.increment()\u001b[0m\u001b[1;33m\u001b[0m\u001b[1;33m\u001b[0m\u001b[0m\n\u001b[1;32m---> 11\u001b[1;33m \u001b[0mbb\u001b[0m\u001b[1;33m.\u001b[0m\u001b[0mincrement\u001b[0m\u001b[1;33m(\u001b[0m\u001b[1;33m)\u001b[0m\u001b[1;33m\u001b[0m\u001b[0m\n\u001b[0m\u001b[0;32m     12\u001b[0m \u001b[1;33m\u001b[0m\u001b[0m\n\u001b[0;32m     13\u001b[0m \u001b[1;31m# print(aa.val)\u001b[0m\u001b[1;33m\u001b[0m\u001b[1;33m\u001b[0m\u001b[0m\n",
      "\u001b[1;31mTypeError\u001b[0m: increment() missing 1 required positional argument: 'val'"
     ]
    }
   ],
   "source": [
    "class MyNum:\n",
    "    def __init__(self, val):\n",
    "        try: float(val)\n",
    "        finally: self.val = val\n",
    "        \n",
    "    def increment(self, val): self.val += 1\n",
    "    \n",
    "# aa = MyNum('hello')\n",
    "bb = MyNum(100)\n",
    "# aa.increment()\n",
    "bb.increment()\n",
    "\n",
    "# print(aa.val)\n",
    "print(bb.val)"
   ]
  },
  {
   "cell_type": "code",
   "execution_count": 5,
   "metadata": {
    "pycharm": {
     "is_executing": false,
     "name": "#%%\n"
    }
   },
   "outputs": [
    {
     "name": "stdout",
     "output_type": "stream",
     "text": [
      "val of obj: 5\n",
      "count: 3\n",
      "val of obj: 13\n",
      "count: 3\n",
      "val of obj: 17\n",
      "count: 3\n"
     ]
    }
   ],
   "source": [
    "class InstanceCounter:\n",
    "    count = 0\n",
    "    \n",
    "    def __init__(self, val):\n",
    "        self.val = val\n",
    "        InstanceCounter.count += 1\n",
    "        \n",
    "    def set_val(self, val):\n",
    "        self.val = val\n",
    "    \n",
    "    def get_val(self):\n",
    "        return self.val\n",
    "    \n",
    "    def get_count(self):\n",
    "        return InstanceCounter.count\n",
    "    \n",
    "\n",
    "a = InstanceCounter(5)\n",
    "b = InstanceCounter(13)\n",
    "c = InstanceCounter(17)\n",
    "\n",
    "for obj in (a, b, c):\n",
    "    print ('val of obj: %s' % obj.get_val())\n",
    "    print ('count: %s' % obj.get_count())"
   ]
  },
  {
   "cell_type": "code",
   "execution_count": null,
   "metadata": {
    "pycharm": {
     "is_executing": false,
     "name": "#%%\n"
    }
   },
   "outputs": [],
   "source": [
    "class Date(object):\n",
    "    def get_date(self):\n",
    "        print('10-10-2020')\n",
    "\n",
    "class Time(Date):\n",
    "    def get_time(self):\n",
    "        print('10:30 a.m') \n",
    "\n",
    "p = Date()\n",
    "q = Time()\n",
    "\n",
    "p.get_date()\n",
    "q.get_time()\n",
    "\n",
    "q.get_date()"
   ]
  },
  {
   "cell_type": "code",
   "execution_count": null,
   "metadata": {
    "pycharm": {
     "is_executing": false,
     "name": "#%%\n"
    }
   },
   "outputs": [],
   "source": [
    "x = 1\n",
    "y = 2\n",
    "print(x+y)\n",
    "\n",
    "x = [1]\n",
    "y = [2]\n",
    "print(x+y)\n",
    "\n",
    "x = '1'\n",
    "y = '2'\n",
    "print(x+y)"
   ]
  },
  {
   "cell_type": "code",
   "execution_count": null,
   "metadata": {
    "pycharm": {
     "is_executing": false,
     "name": "#%%\n"
    }
   },
   "outputs": [],
   "source": [
    "class Animal:\n",
    "    def __init__(self, name):\n",
    "        self.name = name\n",
    "        \n",
    "    def run(self): print('animal is running')\n",
    "        \n",
    "class Dog(Animal):\n",
    "    def __init__(self, name, breed):\n",
    "        super().__init__(name)\n",
    "        self.breed = breed\n",
    "\n",
    "    def fetch(self, thing):\n",
    "        print('%s goes after the %s' % (self.name, thing))\n",
    "    \n",
    "    def do_thing(self): return super().run()\n",
    "    \n",
    "d = Dog('puppy', 'Village')\n",
    "d.fetch('bone')\n",
    "d.do_thing()"
   ]
  },
  {
   "cell_type": "code",
   "execution_count": null,
   "metadata": {
    "pycharm": {
     "is_executing": false,
     "name": "#%%\n"
    }
   },
   "outputs": [],
   "source": [
    "class InstanceCounter:\n",
    "    count = 0\n",
    "    \n",
    "    def __init__(self, val):\n",
    "        self.val = val\n",
    "        InstanceCounter.count += 1\n",
    "        \n",
    "    def set_val(self, val):\n",
    "        self.val = val\n",
    "    \n",
    "    def get_val(self):\n",
    "        return self.val\n",
    "    \n",
    "    @classmethod\n",
    "    def get_count(cls):\n",
    "        return cls.count\n",
    "    \n",
    "\n",
    "a = InstanceCounter(5)\n",
    "b = InstanceCounter(13)\n",
    "c = InstanceCounter(17)\n",
    "\n",
    "for obj in (a, b, c):\n",
    "    print ('val of obj: %s' % obj.get_val())\n",
    "    print ('count: %s' % obj.get_count())"
   ]
  },
  {
   "cell_type": "code",
   "execution_count": null,
   "metadata": {
    "pycharm": {
     "is_executing": false,
     "name": "#%%\n"
    }
   },
   "outputs": [],
   "source": [
    "class MyNum:\n",
    "    def __init__(self, val):\n",
    "        self.val = self.check(val)\n",
    "        \n",
    "    def increment(self): self.val += 1\n",
    "    \n",
    "    @staticmethod\n",
    "    def check(val):\n",
    "        if isinstance(val, int) or isinstance(val, float): return val\n",
    "        else: raise TypeError\n",
    "    \n",
    "# aa = MyNum('hello')\n",
    "bb = MyNum(100)\n",
    "# aa.increment()\n",
    "bb.increment()\n",
    "\n",
    "# print(aa.val)\n",
    "print(bb.val)"
   ]
  },
  {
   "cell_type": "code",
   "execution_count": null,
   "metadata": {
    "pycharm": {
     "is_executing": false,
     "name": "#%%\n"
    }
   },
   "outputs": [],
   "source": [
    "import abc\n",
    "\n",
    "class GetterSetter:\n",
    "    #  makes this class abstract\n",
    "    __metaclass__ = abc.ABCMeta\n",
    "    \n",
    "    @abc.abstractmethod\n",
    "    def set_val(self, val):\n",
    "        \"\"\" set the value in the instance\"\"\"\n",
    "        return \n",
    "    \n",
    "    @abc.abstractmethod\n",
    "    def get_val(self):\n",
    "        \"\"\"return available value in instance\"\"\"\n",
    "        return\n",
    "    \n",
    "class MyClass(GetterSetter):\n",
    "    def set_val(self, val):\n",
    "        self.val = val\n",
    "        \n",
    "    def get_val(self):\n",
    "        return self.val\n",
    "    \n",
    "x = MyClass()\n",
    "print(x)\n",
    "    "
   ]
  },
  {
   "cell_type": "code",
   "execution_count": null,
   "metadata": {
    "pycharm": {
     "is_executing": false,
     "name": "#%%\n"
    }
   },
   "outputs": [],
   "source": [
    "class GetSet:\n",
    "    def __init__(self, value):\n",
    "        self.attr_val = value\n",
    "        \n",
    "    @property\n",
    "    def var(self):\n",
    "        return self.attr_val\n",
    "    \n",
    "    @var.setter\n",
    "    def var(self, value):\n",
    "        self.attr_val = value\n",
    "        \n",
    "    @var.deleter\n",
    "    def var(self):\n",
    "        self.attr_val = None\n",
    "    \n",
    "me = GetSet(5)\n",
    "\n",
    "# makes attr_val invisible to the user by creating a var variable \n",
    "me.var = 1000 # calls @var.setter var function\n",
    "\n",
    "print(me.var) # calls @property var function\n",
    "\n",
    "del me.var # calls @var.deleter var function\n",
    "print(me.var)"
   ]
  },
  {
   "cell_type": "code",
   "execution_count": null,
   "metadata": {
    "pycharm": {
     "is_executing": false,
     "name": "#%%\n"
    }
   },
   "outputs": [],
   "source": [
    "# operator overloading\n",
    "class Add:\n",
    "    def __init__(self, val):\n",
    "        self.val = val\n",
    "        \n",
    "    def __add__(self, other):\n",
    "        return self.val + other.val\n",
    "    \n",
    "    def __mul__(self, other):\n",
    "        return self.val * other.val\n",
    "    \n",
    "    def __ge__(self, other):\n",
    "        return self.val >= other.val\n",
    "\n",
    "val1 = Add(12)\n",
    "val2 = Add(20)\n",
    "\n",
    "print(val1 + val2)\n",
    "print(val1 * val2)\n",
    "print(val1 >= val2)"
   ]
  },
  {
   "cell_type": "code",
   "execution_count": null,
   "metadata": {
    "pycharm": {
     "is_executing": false,
     "name": "#%%\n"
    }
   },
   "outputs": [],
   "source": [
    "class Dog:\n",
    "    def __init__(self, name):\n",
    "        self.name = name\n",
    "        \n",
    "    \n",
    "    def make_sound(self):\n",
    "        return 'Wow Wow'\n",
    "    \n",
    "class Puppy(Dog):\n",
    "    def __init__(self, name):\n",
    "        super().__init__(name)\n",
    "        \n",
    "    # method overriding\n",
    "    def make_sound(self):\n",
    "        return 'wooo wooo'\n",
    "    \n",
    "p1 = Puppy('PUPPY')\n",
    "p1.make_sound()\n",
    "    "
   ]
  },
  {
   "cell_type": "code",
   "execution_count": null,
   "metadata": {
    "pycharm": {
     "is_executing": false,
     "name": "#%%\n"
    }
   },
   "outputs": [],
   "source": [
    "class MyList:\n",
    "    def __init__(self):\n",
    "        self.list = [1, 2, 3]\n",
    "\n",
    "    # this magic method is used to represent a class\n",
    "    def __repr__(self):\n",
    "        return str(self.list)\n",
    "\n",
    "m1 = MyList()\n",
    "print(m1)"
   ]
  },
  {
   "cell_type": "code",
   "execution_count": null,
   "metadata": {
    "pycharm": {
     "is_executing": false,
     "name": "#%%\n"
    }
   },
   "outputs": [],
   "source": [
    "# the with statement\n",
    "with open('test.txt') as file:\n",
    "    print([line.strip() for line in file])\n",
    "\n",
    "\n",
    "# normal way\n",
    "file = open('test.txt')\n",
    "print([line.strip() for line in file])\n",
    "file.close()\n",
    "\n",
    "# both are same\n",
    "\n",
    "# another example using 'with'\n",
    "\n",
    "class MyClass:\n",
    "    def __enter__(self):\n",
    "        print('Entering MyClass')\n",
    "        return self\n",
    "        \n",
    "    # useful when exceptions occur in class\n",
    "        # an exception has a type, value, and a traceback\n",
    "    def __exit__(self, exc_type, exc_val, exc_tb):\n",
    "        print('Exiting MyClass')\n",
    "        \n",
    "    def do_something(self):\n",
    "        print('currently executing a normal method in MyClass %s' % id(self))\n",
    "        \n",
    "with MyClass() as mc1:\n",
    "    mc1.do_something()\n",
    "\n",
    "# when using 'with' in classes ->\n",
    "    # at the beginning __enter__ magic func. is invoked implicitly\n",
    "    # at the end, __exit__ magic func. is invoked implicitly\n",
    "    \n",
    "# could be useful whenever a class needs cleanup after used by an instance"
   ]
  },
  {
   "cell_type": "code",
   "execution_count": null,
   "metadata": {
    "pycharm": {
     "is_executing": false,
     "name": "#%%\n"
    }
   },
   "outputs": [],
   "source": [
    "# exceptions\n",
    "# re-raising exceptions to have meaningful messages\n",
    "\n",
    "def make_delim_line(list_to_join, delim):\n",
    "    try:\n",
    "        formated_line = delim.join(list_to_join)\n",
    "    except TypeError: \n",
    "        raise TypeError('make_delim_line(): arg1 must be a list or tuple')\n",
    "    return formated_line\n",
    "\n",
    "fline = make_delim_line(100, ',')"
   ]
  },
  {
   "cell_type": "code",
   "execution_count": null,
   "metadata": {
    "pycharm": {
     "is_executing": false,
     "name": "#%%\n"
    }
   },
   "outputs": [],
   "source": [
    "# standard custom exception class\n",
    "\n",
    "class MyError(Exception):\n",
    "    def __init__(self, *args):\n",
    "        print('calling init')\n",
    "        if args: self.message = args[0]\n",
    "        else: self.message = ''\n",
    "        \n",
    "    def __str__(self):\n",
    "        print('calling str')\n",
    "        if self.message: return 'Here\\'s a MyError exception with a message: {0}'.format(self.message)\n",
    "        else: return 'Here\\'s a MyError exception'\n",
    "        \n",
    "# raise MyError\n",
    "# raise MyError('Houston! we have a problem')"
   ]
  },
  {
   "cell_type": "code",
   "execution_count": null,
   "metadata": {
    "pycharm": {
     "is_executing": false,
     "name": "#%%\n"
    }
   },
   "outputs": [],
   "source": [
    "# object serialization\n",
    "# pickle\n",
    "\n",
    "import pickle\n",
    "\n",
    "my_list = ['a', 'b', 'c']\n",
    "\n",
    "# with open('test.txt', 'wb') as file:\n",
    "#     pickle.dump(my_list, file)\n",
    "\n",
    "with open('test.txt', 'rb') as file:\n",
    "    unpickled_list = pickle.load(file)\n",
    "    \n",
    "print(unpickled_list)\n",
    "    "
   ]
  },
  {
   "cell_type": "code",
   "execution_count": null,
   "metadata": {
    "pycharm": {
     "is_executing": false,
     "name": "#%%\n"
    }
   },
   "outputs": [],
   "source": [
    "# JSON handling\n",
    "import json\n",
    "\n",
    "with open('package.json') as file:\n",
    "    var = json.load(file)\n",
    "    \n",
    "var['newkey'] = 5.0005\n",
    "\n",
    "with open('package.json', 'w') as file:\n",
    "    json.dump(var, file, indent=2, separators=(',', ': '))"
   ]
  },
  {
   "cell_type": "code",
   "execution_count": null,
   "metadata": {
    "pycharm": {
     "is_executing": false,
     "name": "#%%\n"
    }
   },
   "outputs": [],
   "source": [
    "import yaml\n",
    "\n",
    "mydict = {'a':1, 'b':2, 'c':3}\n",
    "mylist = [1,2,3,4,5]\n",
    "mytuple = ('x', 'y', 'z')\n",
    "\n",
    "loaded_yaml = yaml.dump(mydict, default_flow_style=False)\n",
    "print (loaded_yaml)\n",
    "\n",
    "print(yaml.dump(mylist, default_flow_style=False))\n",
    "print(yaml.dump(mytuple, default_flow_style=False))\n",
    "\n",
    "\n",
    "# yaml also has -> yaml.load(), yaml.safe_load()"
   ]
  },
  {
   "cell_type": "code",
   "execution_count": null,
   "metadata": {
    "pycharm": {
     "is_executing": false,
     "name": "#%%\n"
    }
   },
   "outputs": [],
   "source": [
    "import logging\n",
    "\n",
    "logging.basicConfig(level=logging.INFO, filename='example.log', filemode='w', format='%(asctime)s   %(levelname)s:%(message)s')\n",
    "\n",
    "logging.debug('this message will be ignored')\n",
    "logging.info('this should be logged')\n",
    "logging.warning('and this too')"
   ]
  },
  {
   "cell_type": "code",
   "execution_count": null,
   "metadata": {
    "pycharm": {
     "is_executing": false,
     "name": "#%%\n"
    }
   },
   "outputs": [],
   "source": [
    "\n"
   ]
  }
 ],
 "metadata": {
  "kernelspec": {
   "display_name": "Python 3",
   "language": "python",
   "name": "python3"
  },
  "language_info": {
   "codemirror_mode": {
    "name": "ipython",
    "version": 3
   },
   "file_extension": ".py",
   "mimetype": "text/x-python",
   "name": "python",
   "nbconvert_exporter": "python",
   "pygments_lexer": "ipython3",
   "version": "3.7.0"
  },
  "pycharm": {
   "stem_cell": {
    "cell_type": "raw",
    "metadata": {
     "collapsed": false
    },
    "source": []
   }
  }
 },
 "nbformat": 4,
 "nbformat_minor": 1
}
