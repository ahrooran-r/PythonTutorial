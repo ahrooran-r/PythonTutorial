{
 "cells": [
  {
   "cell_type": "code",
   "execution_count": null,
   "metadata": {
    "collapsed": true,
    "pycharm": {
     "is_executing": true
    }
   },
   "outputs": [],
   "source": [
    "import sys"
   ]
  },
  {
   "cell_type": "markdown",
   "source": [
    "## SYS module"
   ],
   "metadata": {
    "collapsed": false
   }
  },
  {
   "cell_type": "code",
   "execution_count": null,
   "outputs": [],
   "source": [
    "# get python version\n",
    "sys.version\n",
    "sys.version_info"
   ],
   "metadata": {
    "collapsed": false,
    "pycharm": {
     "name": "#%%\n",
     "is_executing": true
    }
   }
  },
  {
   "cell_type": "code",
   "execution_count": null,
   "outputs": [
    {
     "name": "stdout",
     "text": [
      "ERROR! Session/line number was not unique in database. History logging moved to new session 54\n",
      "['c:\\\\users\\\\dell\\\\appdata\\\\local\\\\programs\\\\python\\\\python37\\\\lib\\\\site-packages\\\\ipykernel_launcher.py', '-f', 'C:\\\\Users\\\\DELL\\\\AppData\\\\Roaming\\\\jupyter\\\\runtime\\\\kernel-dcdd90d4-1f0d-41dd-89f4-3f1170e890cb.json']\n"
     ],
     "output_type": "stream"
    }
   ],
   "source": [
    "print(sys.argv)"
   ],
   "metadata": {
    "collapsed": false,
    "pycharm": {
     "name": "#%%\n",
     "is_executing": true
    }
   }
  },
  {
   "cell_type": "code",
   "source": [
    "x = 42\n",
    "x\n",
    "\n",
    "def mydisplay(x):\n",
    "    print(\"out: \", x)\n",
    "sys.displayhook = mydisplay\n",
    "\n",
    "x"
   ],
   "metadata": {
    "collapsed": false,
    "pycharm": {
     "name": "#%%\n",
     "is_executing": true
    }
   },
   "execution_count": null,
   "outputs": [
    {
     "name": "stdout",
     "text": [
      "ERROR! Session/line number was not unique in database. History logging moved to new session 55\n",
      "out:  42\n"
     ],
     "output_type": "stream"
    }
   ]
  },
  {
   "cell_type": "code",
   "execution_count": null,
   "outputs": [
    {
     "name": "stdout",
     "text": [
      "<_io.TextIOWrapper name='<stdin>' mode='r' encoding='cp1252'>\n<ipykernel.iostream.OutStream object at 0x0000024D72AD08D0>\n<_io.TextIOWrapper name='test.txt' mode='w' encoding='cp1252'>\n"
     ],
     "output_type": "stream"
    }
   ],
   "source": [
    "for i in (sys.stdin, sys.stdout, sys.stderr):\n",
    "    print(i)"
   ],
   "metadata": {
    "collapsed": false,
    "pycharm": {
     "name": "#%%\n",
     "is_executing": true
    }
   }
  },
  {
   "cell_type": "markdown",
   "source": [
    "### stdout, stdin\n"
   ],
   "metadata": {
    "collapsed": false,
    "pycharm": {
     "name": "#%% md\n"
    }
   }
  },
  {
   "cell_type": "code",
   "execution_count": null,
   "outputs": [
    {
     "name": "stdout",
     "text": [
      "printing vis standard print\nprinting via sys.stdout"
     ],
     "output_type": "stream"
    }
   ],
   "source": [
    "print('printing vis standard print')\n",
    "\n",
    "sys.stdout.write('printing via sys.stdout')"
   ],
   "metadata": {
    "collapsed": false,
    "pycharm": {
     "name": "#%%\n",
     "is_executing": true
    }
   }
  },
  {
   "cell_type": "code",
   "execution_count": null,
   "outputs": [],
   "source": [
    "x = input('Getting standard input: ')\n",
    "print(x)\n",
    "\n",
    "print('getting value via sys.stdin: ', sys.stdin.readline()[:-1])"
   ],
   "metadata": {
    "collapsed": false,
    "pycharm": {
     "name": "#%%\n",
     "is_executing": true
    }
   }
  },
  {
   "cell_type": "markdown",
   "source": [
    "### Redirections"
   ],
   "metadata": {
    "collapsed": false,
    "pycharm": {
     "name": "#%% md\n"
    }
   }
  },
  {
   "cell_type": "markdown",
   "source": [
    "#### Redirect printing on screen to printing on files"
   ],
   "metadata": {
    "collapsed": false
   }
  },
  {
   "cell_type": "code",
   "execution_count": null,
   "outputs": [
    {
     "name": "stdout",
     "text": [
      "Comming through stdout\n"
     ],
     "output_type": "stream"
    }
   ],
   "source": [
    "print('Comming through stdout')\n",
    "\n",
    "# stdout is saves\n",
    "save_stdout = sys.stdout\n",
    "\n",
    "with open('test.txt', 'w') as fh:\n",
    "    sys.stdout = fh\n",
    "    print('this line goes to test.txt')\n",
    "    sys.stdout = save_stdout"
   ],
   "metadata": {
    "collapsed": false,
    "pycharm": {
     "name": "#%%\n",
     "is_executing": true
    }
   }
  },
  {
   "cell_type": "markdown",
   "source": [
    "#### Redirect errors to FILES instead of printing to screen"
   ],
   "metadata": {
    "collapsed": false,
    "pycharm": {
     "name": "#%% md\n"
    }
   }
  },
  {
   "cell_type": "code",
   "execution_count": null,
   "outputs": [
    {
     "name": "stdout",
     "text": [
      "ERROR! Session/line number was not unique in database. History logging moved to new session 56\n"
     ],
     "output_type": "stream"
    }
   ],
   "source": [
    "save_stderr = sys.stderr\n",
    "\n",
    "with open('test.txt', 'w') as fh:\n",
    "    sys.stderr = fh\n",
    "    x = 10 / 0\n",
    "\n",
    "    # return stderr back to printing to screen\n",
    "    sys.stderr = save_stderr"
   ],
   "metadata": {
    "collapsed": false,
    "pycharm": {
     "name": "#%%\n",
     "is_executing": true
    }
   }
  },
  {
   "cell_type": "code",
   "execution_count": null,
   "outputs": [
    {
     "name": "stdout",
     "text": [
      "ERROR! Session/line number was not unique in database. History logging moved to new session 57\n"
     ],
     "output_type": "stream"
    }
   ],
   "source": [
    "sys.byteorder # -> indicator of native byteorder base\n",
    "sys.executable # -> string containing executable binary for that interpreter\n",
    "sys.maxsize # -> maximum of any integer -> can be used in place of infinity\n",
    "sys.modules # -> matches the name of modules to actual modules\n",
    "sys.path\n",
    "sys.platform # -> platform on which python is running\n"
   ],
   "metadata": {
    "collapsed": false,
    "pycharm": {
     "name": "#%%\n",
     "is_executing": true
    }
   }
  }
 ],
 "metadata": {
  "kernelspec": {
   "display_name": "Python 3",
   "language": "python",
   "name": "python3"
  },
  "language_info": {
   "codemirror_mode": {
    "name": "ipython",
    "version": 2
   },
   "file_extension": ".py",
   "mimetype": "text/x-python",
   "name": "python",
   "nbconvert_exporter": "python",
   "pygments_lexer": "ipython2",
   "version": "2.7.6"
  },
  "pycharm": {
   "stem_cell": {
    "cell_type": "raw",
    "source": [],
    "metadata": {
     "collapsed": false
    }
   }
  }
 },
 "nbformat": 4,
 "nbformat_minor": 0
}