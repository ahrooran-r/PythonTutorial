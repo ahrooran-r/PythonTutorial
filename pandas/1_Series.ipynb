{
 "cells": [
  {
   "cell_type": "code",
   "execution_count": 10,
   "metadata": {
    "pycharm": {
     "is_executing": false
    }
   },
   "outputs": [],
   "source": [
    "import pandas as pd"
   ]
  },
  {
   "cell_type": "markdown",
   "metadata": {
    "pycharm": {
     "name": "#%% md\n"
    }
   },
   "source": [
    "# Basic\n",
    "\n",
    "Has 3 data structures ->\n",
    "    1. Series object <- one dimensional\n",
    "    2. DataFrame <- two dimensional\n",
    "    3. Panel Data <- three dimensional (not going to learn)\n",
    "\n",
    "## Series object\n",
    "\n",
    "strictly a 1-D array\n",
    "think as one dimensional array\n",
    "contains data of similar or mixed types"
   ]
  },
  {
   "cell_type": "code",
   "execution_count": 11,
   "outputs": [
    {
     "data": {
      "text/plain": "0    1\n1    2\n2    3\n3    4\ndtype: int64"
     },
     "metadata": {},
     "output_type": "execute_result",
     "execution_count": 11
    }
   ],
   "source": [
    "sample1 = [1,2,3,4]\n",
    "series1 = pd.Series(sample1)\n",
    "series1"
   ],
   "metadata": {
    "collapsed": false,
    "pycharm": {
     "name": "#%%\n",
     "is_executing": false
    }
   }
  },
  {
   "cell_type": "code",
   "execution_count": 12,
   "outputs": [
    {
     "data": {
      "text/plain": "0       [1, 2, 3]\n1    [4, 5, 6, 7]\ndtype: object"
     },
     "metadata": {},
     "output_type": "execute_result",
     "execution_count": 12
    }
   ],
   "source": [
    "sample2 = [[1,2,3], [4,5,6,7]]\n",
    "series2 = pd.Series(sample2)\n",
    "series2"
   ],
   "metadata": {
    "collapsed": false,
    "pycharm": {
     "name": "#%%\n",
     "is_executing": false
    }
   }
  },
  {
   "cell_type": "code",
   "execution_count": 23,
   "outputs": [
    {
     "name": "stdout",
     "text": [
      "0    [[1, 2], [3, 4]]\n1              [5, 6]\ndtype: object\n"
     ],
     "output_type": "stream"
    },
    {
     "data": {
      "text/plain": "0    [[1, 2], [3, 4]]\ndtype: object"
     },
     "metadata": {},
     "output_type": "execute_result",
     "execution_count": 23
    }
   ],
   "source": [
    "sample3 = [[[1,2], [3, 4]], [5, 6]]\n",
    "series3 = pd.Series(sample3)\n",
    "print(series3)\n",
    "type(series3)\n",
    "series3[0:1]"
   ],
   "metadata": {
    "collapsed": false,
    "pycharm": {
     "name": "#%%\n",
     "is_executing": false
    }
   }
  },
  {
   "cell_type": "code",
   "execution_count": null,
   "outputs": [],
   "source": [
    "dic = dict({\n",
    "    'a': 'Geeks', \n",
    "    'b': 'For', \n",
    "    'c':'Geeks'\n",
    "})\n",
    "series5 = pd.Series(dic)\n",
    "series5"
   ],
   "metadata": {
    "collapsed": false,
    "pycharm": {
     "name": "#%%\n"
    }
   }
  },
  {
   "cell_type": "markdown",
   "source": [
    "### Change  index name\n",
    "\n",
    "#### Note:\n",
    "When using STRING based indexing like below example: the R.H.S will not be excluded\n",
    "But when using integer based indexing like above example: R.H.S will be excluded just like normal Python"
   ],
   "metadata": {
    "collapsed": false,
    "pycharm": {
     "name": "#%% md\n"
    }
   }
  },
  {
   "cell_type": "code",
   "execution_count": 19,
   "outputs": [
    {
     "name": "stdout",
     "text": [
      "a    1\nb    2\nc    3\nd    4\ndtype: int64\n1\n"
     ],
     "output_type": "stream"
    },
    {
     "data": {
      "text/plain": "a    1\nb    2\nc    3\ndtype: int64"
     },
     "metadata": {},
     "output_type": "execute_result",
     "execution_count": 19
    }
   ],
   "source": [
    "series4 = pd.Series(sample1, index=['a', 'b', 'c', 'd'])\n",
    "print(series4)\n",
    "print(series4['a'])\n",
    "series4['a': 'c']"
   ],
   "metadata": {
    "collapsed": false,
    "pycharm": {
     "name": "#%%\n",
     "is_executing": false
    }
   }
  },
  {
   "cell_type": "markdown",
   "source": [
    "### Create different Series object data types\n",
    "\n",
    "1. Array\n",
    "2. Dictionary\n",
    "3. Scalar"
   ],
   "metadata": {
    "collapsed": false,
    "pycharm": {
     "name": "#%% md\n",
     "is_executing": false
    }
   }
  }
 ],
 "metadata": {
  "kernelspec": {
   "display_name": "Python 3",
   "language": "python",
   "name": "python3"
  },
  "language_info": {
   "codemirror_mode": {
    "name": "ipython",
    "version": 3
   },
   "file_extension": ".py",
   "mimetype": "text/x-python",
   "name": "python",
   "nbconvert_exporter": "python",
   "pygments_lexer": "ipython3",
   "version": "3.7.0"
  },
  "pycharm": {
   "stem_cell": {
    "cell_type": "raw",
    "source": [],
    "metadata": {
     "collapsed": false
    }
   }
  }
 },
 "nbformat": 4,
 "nbformat_minor": 4
}