{
 "cells": [
  {
   "cell_type": "code",
   "source": [
    "import os, platform"
   ],
   "metadata": {
    "collapsed": false,
    "pycharm": {
     "name": "#%%\n",
     "is_executing": true
    }
   },
   "execution_count": null,
   "outputs": []
  },
  {
   "cell_type": "markdown",
   "source": [
    "### OS Module\n",
    "\n",
    "Allows platform independent programming by \n",
    "providing abstract methods"
   ],
   "metadata": {
    "collapsed": false
   }
  },
  {
   "cell_type": "code",
   "source": [
    "def getch():\n",
    "    if platform.system() == 'Linux': os.system(\"bash -c \\\"read -n 1\\\"\")\n",
    "    elif platform.system() == 'Windows':\n",
    "        import msvcrt\n",
    "        msvcrt.getch()\n",
    "\n",
    "print('Type a key')\n",
    "getch()\n",
    "print('okay')"
   ],
   "metadata": {
    "collapsed": false,
    "pycharm": {
     "name": "#%%\n",
     "is_executing": true
    }
   },
   "execution_count": null,
   "outputs": []
  },
  {
   "cell_type": "markdown",
   "source": [
    "#### Forking"
   ],
   "metadata": {
    "collapsed": false,
    "pycharm": {
     "name": "#%% md\n"
    }
   }
  },
  {
   "cell_type": "code",
   "execution_count": null,
   "outputs": [],
   "source": [
    "def child():\n",
    "    print('\\nA new child', os.getpid())\n",
    "    os._exit(0)\n",
    "\n",
    "def parent():\n",
    "    while True:\n",
    "        newpid = os.fork()\n",
    "        if newpid == 0: child()\n",
    "        else:\n",
    "            pids = (os.getpid(), newpid)\n",
    "            print('parent: %d, child: %d\\n' % pids)\n",
    "        \n",
    "        reply = input(\"q for quit /c for new fork\")\n",
    "        \n",
    "        if reply == 'c': continue\n",
    "        else: break\n",
    "\n",
    "parent()"
   ],
   "metadata": {
    "collapsed": false,
    "pycharm": {
     "name": "#%%\n",
     "is_executing": true
    }
   }
  },
  {
   "cell_type": "code",
   "execution_count": null,
   "outputs": [],
   "source": [
    "\n"
   ],
   "metadata": {
    "collapsed": false,
    "pycharm": {
     "name": "#%%\n"
    }
   }
  }
 ],
 "metadata": {
  "kernelspec": {
   "display_name": "Python 3",
   "language": "python",
   "name": "python3"
  },
  "language_info": {
   "codemirror_mode": {
    "name": "ipython",
    "version": 2
   },
   "file_extension": ".py",
   "mimetype": "text/x-python",
   "name": "python",
   "nbconvert_exporter": "python",
   "pygments_lexer": "ipython2",
   "version": "2.7.6"
  },
  "pycharm": {
   "stem_cell": {
    "cell_type": "raw",
    "source": [],
    "metadata": {
     "collapsed": false
    }
   }
  }
 },
 "nbformat": 4,
 "nbformat_minor": 0
}